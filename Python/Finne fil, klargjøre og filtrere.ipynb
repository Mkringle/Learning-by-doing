{
 "cells": [
  {
   "cell_type": "code",
   "execution_count": 2,
   "id": "6464204a-b0d7-4cfa-9297-98ee077695f6",
   "metadata": {},
   "outputs": [],
   "source": [
    "import pandas as pd\n",
    "import glob\n",
    "import numpy as np"
   ]
  },
  {
   "cell_type": "code",
   "execution_count": 34,
   "id": "632c2b49-24ad-4a80-9417-eac9988d58e1",
   "metadata": {},
   "outputs": [
    {
     "data": {
      "text/plain": [
       "[]"
      ]
     },
     "execution_count": 34,
     "metadata": {},
     "output_type": "execute_result"
    }
   ],
   "source": [
    "#Sjekker hva som ligger i mappen:\n",
    "\n",
    "#paths =  spark.read.path('/produkt/kostra/regnskap/demo/utpakket/*')\n",
    "#paths.show(100, False)\n",
    "\n",
    "paths = glob.glob(\"/produkt/kostra/regnskap/demo/utpakket/*\")\n",
    "paths\n",
    "\n",
    "#På linux (prod) blir dette:\n",
    "#paths = glob.glob(\"/ssb/stamme03/komakro/komm_aarsregn_ubearb/arkiv/primk_regnskap/*\")\n",
    "#paths"
   ]
  },
  {
   "cell_type": "code",
   "execution_count": null,
   "id": "0a051c6a-d1a0-4b29-b0b3-8aac6b10dcbe",
   "metadata": {},
   "outputs": [],
   "source": [
    "#Henter filen, sjekker innhold\n",
    "regn_2020 = pd.read_table(\"/ssb/stamme03/komakro/komm_aarsregn_ubearb/arkiv/primk_regnskap/g2020.txt\")\n",
    "regn_2020.info()\n",
    "regn_2020.head(5)"
   ]
  },
  {
   "cell_type": "code",
   "execution_count": null,
   "id": "4aa62517-9a61-408c-927e-5dc68f69136a",
   "metadata": {},
   "outputs": [],
   "source": [
    "#Fil med faste posisjoner. Må benytte fwf (fixed width) og definere posisjonene\n",
    "regn_2020 = pd.read_fwf(\"/ssb/stamme03/komakro/komm_aarsregn_ubearb/arkiv/primk_regnskap/g2020.txt\",\n",
    "    names=[\"skjema\", \"periode\", \"kvartal\", \"komnr\", \"orgnr\", \"foretaksnr\" ,\"kontoklasse\", \"funksjon\", \"art\", \"belop\"],\n",
    "    dtype=object,\n",
    "    na_values={\".\",\" .\"},\n",
    "    widths=[2, 4, 1, 6, 9, 9, 1, 4, 3, 9]\n",
    ")\n",
    "regn_2020.info()\n",
    "regn_2020.head(2)"
   ]
  },
  {
   "cell_type": "code",
   "execution_count": null,
   "id": "52595a6f-c3f8-46fa-a242-3145e80d4355",
   "metadata": {},
   "outputs": [],
   "source": [
    "len(regn_2020)"
   ]
  },
  {
   "cell_type": "code",
   "execution_count": null,
   "id": "475bb021-6074-49b3-8a81-38478a3de957",
   "metadata": {},
   "outputs": [],
   "source": [
    "regn_2020.dtypes"
   ]
  },
  {
   "cell_type": "code",
   "execution_count": null,
   "id": "1d4398a0-dba3-4939-aef6-dc9be8e4f8cd",
   "metadata": {},
   "outputs": [],
   "source": [
    "#Retter datatyde\n",
    "regn_2020['belop'] = regn_2020['belop'].astype(\"int\")\n",
    "regn_2020['kvartal'] = regn_2020['kvartal'].astype(\"str\")\n",
    "regn_2020['orgnr'] = regn_2020['orgnr'].astype(\"str\")\n",
    "regn_2020['foretaksnr'] = regn_2020['foretaksnr'].astype(\"str\")\n",
    "regn_2020.convert_dtypes().info()"
   ]
  },
  {
   "cell_type": "code",
   "execution_count": null,
   "id": "0ffd61d9-6059-470f-8edb-2101514e26b5",
   "metadata": {},
   "outputs": [],
   "source": [
    "#Lagrer til Parquet\n",
    "regn_2020.to_parquet(\"../../data/arbeid_mtk.parquet\")"
   ]
  },
  {
   "cell_type": "code",
   "execution_count": null,
   "id": "748edfe0-b821-480f-8a56-58fcc04c5e39",
   "metadata": {},
   "outputs": [],
   "source": [
    "#Henter inn parquet-fil\n",
    "regn = pd.read_parquet(\"../../data/arbeid_mtk.parquet\")"
   ]
  },
  {
   "cell_type": "code",
   "execution_count": null,
   "id": "332e44ab-ca0a-4b96-ae0b-c0200b8d98da",
   "metadata": {},
   "outputs": [],
   "source": [
    "regn.info()"
   ]
  },
  {
   "cell_type": "code",
   "execution_count": null,
   "id": "42e687fd-5c15-472b-bc4c-e91ae31e8fe7",
   "metadata": {},
   "outputs": [],
   "source": [
    "#Ajekker om det er duplikater\n",
    "regn.duplicated()\n",
    "regn[regn.duplicated()]"
   ]
  },
  {
   "cell_type": "code",
   "execution_count": null,
   "id": "5e7e661c-bba0-43f7-a9ee-959a0d9373f2",
   "metadata": {},
   "outputs": [],
   "source": [
    "#Filtrerer ut Oslo\n",
    "regn[regn['komnr'] == '0301']"
   ]
  },
  {
   "cell_type": "code",
   "execution_count": null,
   "id": "bb6ebfd4-d1a0-4214-9813-fb130885309c",
   "metadata": {},
   "outputs": [],
   "source": [
    "#Filtrerer ut Oslo og driftsregnskapet\n",
    "regn[(regn['komnr'].str[:2] == '03') & (regn['kontoklasse'] == '1')]"
   ]
  },
  {
   "cell_type": "code",
   "execution_count": null,
   "id": "b87b0964-fd98-47cb-a0ec-72d9580925bc",
   "metadata": {},
   "outputs": [],
   "source": [
    "Antall unike verdier i komnr\n",
    "regn['komnr'].value_counts()"
   ]
  },
  {
   "cell_type": "code",
   "execution_count": null,
   "id": "bfe0f637-ac2d-4bba-a92e-4ac298f8aff5",
   "metadata": {},
   "outputs": [],
   "source": [
    "Kjører en spørring \n",
    "x = regn.query(\"funksjon == '234' & art == '185'\")\n",
    "x"
   ]
  },
  {
   "cell_type": "code",
   "execution_count": null,
   "id": "7ce709b6-3151-4dcc-95ff-0e13fee0686d",
   "metadata": {},
   "outputs": [],
   "source": [
    "#Sjekker om de to første posisjonene i komnr er siffer\n",
    "regn[\"komnr\"].astype(str).str[2].str.isdigit()"
   ]
  },
  {
   "cell_type": "code",
   "execution_count": null,
   "id": "cad1019a-ed72-43c8-9123-231d423c0d77",
   "metadata": {},
   "outputs": [],
   "source": [
    "#Filtrerer i regnskapsfilen\n",
    "regn[(regn[\"funksjon\"] == \"234\") & (regn[\"art\"] == \"185\")]"
   ]
  },
  {
   "cell_type": "code",
   "execution_count": null,
   "id": "7f588d37-3357-40d5-90a1-f489a54e0dac",
   "metadata": {},
   "outputs": [],
   "source": [
    "#Lager et objekt med spesifikasjoner for å filtrere i hovedfilen\n",
    "maske = (regn[\"kontoklasse\"] == \"1\") & (regn[\"funksjon\"] == \"234\") & (regn[\"art\"] == \"185\")\n",
    "regn[maske]"
   ]
  }
 ],
 "metadata": {
  "kernelspec": {
   "display_name": "Python 3",
   "language": "python",
   "name": "python3"
  },
  "language_info": {
   "codemirror_mode": {
    "name": "ipython",
    "version": 3
   },
   "file_extension": ".py",
   "mimetype": "text/x-python",
   "name": "python",
   "nbconvert_exporter": "python",
   "pygments_lexer": "ipython3",
   "version": "3.9.7"
  }
 },
 "nbformat": 4,
 "nbformat_minor": 5
}
