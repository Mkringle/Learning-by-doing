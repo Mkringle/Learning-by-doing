{
 "cells": [
  {
   "cell_type": "code",
   "execution_count": 3,
   "id": "6464204a-b0d7-4cfa-9297-98ee077695f6",
   "metadata": {},
   "outputs": [],
   "source": [
    "import pandas as pd\n",
    "import glob\n",
    "import numpy as np\n",
    "import dapla as dp"
   ]
  },
  {
   "cell_type": "code",
   "execution_count": 1,
   "id": "632c2b49-24ad-4a80-9417-eac9988d58e1",
   "metadata": {},
   "outputs": [
    {
     "name": "stdout",
     "output_type": "stream",
     "text": [
      "+-------------------------------------------------------------------------------------+\n",
      "|path                                                                                 |\n",
      "+-------------------------------------------------------------------------------------+\n",
      "|/produkt/kostra/regnskap/demo/utpakket/ds_20210209                                   |\n",
      "|/produkt/kostra/regnskap/demo/utpakket/ds_artshierarki_20210209                      |\n",
      "|/produkt/kostra/regnskap/demo/utpakket/ds_artshierarki_nettinger_kasse_20210210      |\n",
      "|/produkt/kostra/regnskap/demo/utpakket/ds_artshierarki_nettinger_saerbedrift_20210210|\n",
      "|/produkt/kostra/regnskap/demo/utpakket/ds_formler_20210210                           |\n",
      "|/produkt/kostra/regnskap/demo/utpakket/ds_funksjonshierarki_20210210                 |\n",
      "|/produkt/kostra/regnskap/demo/utpakket/ds_kombinasjoner_20210210                     |\n",
      "|/produkt/kostra/regnskap/demo/utpakket/ds_saerbedrift_20210210                       |\n",
      "+-------------------------------------------------------------------------------------+\n",
      "\n"
     ]
    }
   ],
   "source": [
    "#Sjekker hva som ligger i mappen:\n",
    "\n",
    "paths =  spark.read.path('/produkt/kostra/regnskap/demo/utpakket/*')\n",
    "paths.show(100, False)\n",
    "\n",
    "#paths = glob.glob(\"/produkt/kostra/regnskap/demo/utpakket/*\")\n",
    "#paths\n",
    "\n",
    "#På linux (prod) blir dette:\n",
    "#paths = glob.glob(\"/ssb/stamme03/komakro/komm_aarsregn_ubearb/arkiv/primk_regnskap/*\")\n",
    "#paths"
   ]
  },
  {
   "cell_type": "code",
   "execution_count": 6,
   "id": "80f75a9c-f892-48e0-b0dd-aa10aed70fb4",
   "metadata": {},
   "outputs": [
    {
     "name": "stdout",
     "output_type": "stream",
     "text": [
      "<class 'pandas.core.frame.DataFrame'>\n",
      "RangeIndex: 683692 entries, 0 to 683691\n",
      "Data columns (total 7 columns):\n",
      " #   Column           Non-Null Count   Dtype \n",
      "---  ------           --------------   ----- \n",
      " 0   art              683692 non-null  object\n",
      " 1   funksjon         683692 non-null  object\n",
      " 2   fylkesregion     683692 non-null  object\n",
      " 3   kontoklasse      683692 non-null  object\n",
      " 4   periode          683692 non-null  object\n",
      " 5   regnskapsomfang  683692 non-null  object\n",
      " 6   belop            683692 non-null  int32 \n",
      "dtypes: int32(1), object(6)\n",
      "memory usage: 33.9+ MB\n"
     ]
    },
    {
     "data": {
      "text/html": [
       "<div>\n",
       "<style scoped>\n",
       "    .dataframe tbody tr th:only-of-type {\n",
       "        vertical-align: middle;\n",
       "    }\n",
       "\n",
       "    .dataframe tbody tr th {\n",
       "        vertical-align: top;\n",
       "    }\n",
       "\n",
       "    .dataframe thead th {\n",
       "        text-align: right;\n",
       "    }\n",
       "</style>\n",
       "<table border=\"1\" class=\"dataframe\">\n",
       "  <thead>\n",
       "    <tr style=\"text-align: right;\">\n",
       "      <th></th>\n",
       "      <th>art</th>\n",
       "      <th>funksjon</th>\n",
       "      <th>fylkesregion</th>\n",
       "      <th>kontoklasse</th>\n",
       "      <th>periode</th>\n",
       "      <th>regnskapsomfang</th>\n",
       "      <th>belop</th>\n",
       "    </tr>\n",
       "  </thead>\n",
       "  <tbody>\n",
       "    <tr>\n",
       "      <th>0</th>\n",
       "      <td>010</td>\n",
       "      <td>400</td>\n",
       "      <td>0100</td>\n",
       "      <td>1</td>\n",
       "      <td>2019</td>\n",
       "      <td>B</td>\n",
       "      <td>942</td>\n",
       "    </tr>\n",
       "    <tr>\n",
       "      <th>1</th>\n",
       "      <td>240</td>\n",
       "      <td>400</td>\n",
       "      <td>0100</td>\n",
       "      <td>1</td>\n",
       "      <td>2019</td>\n",
       "      <td>B</td>\n",
       "      <td>58</td>\n",
       "    </tr>\n",
       "    <tr>\n",
       "      <th>2</th>\n",
       "      <td>050</td>\n",
       "      <td>400</td>\n",
       "      <td>0100</td>\n",
       "      <td>1</td>\n",
       "      <td>2019</td>\n",
       "      <td>B</td>\n",
       "      <td>87</td>\n",
       "    </tr>\n",
       "    <tr>\n",
       "      <th>3</th>\n",
       "      <td>080</td>\n",
       "      <td>400</td>\n",
       "      <td>0100</td>\n",
       "      <td>1</td>\n",
       "      <td>2019</td>\n",
       "      <td>B</td>\n",
       "      <td>17136</td>\n",
       "    </tr>\n",
       "    <tr>\n",
       "      <th>4</th>\n",
       "      <td>090</td>\n",
       "      <td>400</td>\n",
       "      <td>0100</td>\n",
       "      <td>1</td>\n",
       "      <td>2019</td>\n",
       "      <td>B</td>\n",
       "      <td>2105</td>\n",
       "    </tr>\n",
       "  </tbody>\n",
       "</table>\n",
       "</div>"
      ],
      "text/plain": [
       "   art funksjon fylkesregion kontoklasse periode regnskapsomfang  belop\n",
       "0  010      400         0100           1    2019               B    942\n",
       "1  240      400         0100           1    2019               B     58\n",
       "2  050      400         0100           1    2019               B     87\n",
       "3  080      400         0100           1    2019               B  17136\n",
       "4  090      400         0100           1    2019               B   2105"
      ]
     },
     "execution_count": 6,
     "metadata": {},
     "output_type": "execute_result"
    }
   ],
   "source": [
    "regn = dp.read_pandas('/produkt/kostra/regnskap/demo/utpakket/ds_20210209')\n",
    "regn.info()\n",
    "regn.head(5)"
   ]
  },
  {
   "cell_type": "code",
   "execution_count": null,
   "id": "0a051c6a-d1a0-4b29-b0b3-8aac6b10dcbe",
   "metadata": {},
   "outputs": [],
   "source": [
    "#Henter filen fra linux, sjekker innhold\n",
    "#regn_2020 = pd.read_table(\"/ssb/stamme03/komakro/komm_aarsregn_ubearb/arkiv/primk_regnskap/g2020.txt\")"
   ]
  },
  {
   "cell_type": "code",
   "execution_count": null,
   "id": "4aa62517-9a61-408c-927e-5dc68f69136a",
   "metadata": {},
   "outputs": [],
   "source": [
    "#Fil med faste posisjoner. Må benytte fwf (fixed width) og definere posisjonene\n",
    "#regn_2020 = pd.read_fwf(\"/ssb/stamme03/komakro/komm_aarsregn_ubearb/arkiv/primk_regnskap/g2020.txt\",\n",
    "#    names=[\"skjema\", \"periode\", \"kvartal\", \"komnr\", \"orgnr\", \"foretaksnr\" ,\"kontoklasse\", \"funksjon\", \"art\", \"belop\"],\n",
    "#    dtype=object,\n",
    "#    na_values={\".\",\" .\"},\n",
    "#    widths=[2, 4, 1, 6, 9, 9, 1, 4, 3, 9]\n",
    "#)\n",
    "#regn_2020.info()\n",
    "#regn_2020.head(2)"
   ]
  },
  {
   "cell_type": "code",
   "execution_count": 7,
   "id": "52595a6f-c3f8-46fa-a242-3145e80d4355",
   "metadata": {},
   "outputs": [
    {
     "data": {
      "text/plain": [
       "683692"
      ]
     },
     "execution_count": 7,
     "metadata": {},
     "output_type": "execute_result"
    }
   ],
   "source": [
    "len(regn)"
   ]
  },
  {
   "cell_type": "code",
   "execution_count": 8,
   "id": "475bb021-6074-49b3-8a81-38478a3de957",
   "metadata": {},
   "outputs": [
    {
     "data": {
      "text/plain": [
       "art                object\n",
       "funksjon           object\n",
       "fylkesregion       object\n",
       "kontoklasse        object\n",
       "periode            object\n",
       "regnskapsomfang    object\n",
       "belop               int32\n",
       "dtype: object"
      ]
     },
     "execution_count": 8,
     "metadata": {},
     "output_type": "execute_result"
    }
   ],
   "source": [
    "regn.dtypes"
   ]
  },
  {
   "cell_type": "code",
   "execution_count": 10,
   "id": "1d4398a0-dba3-4939-aef6-dc9be8e4f8cd",
   "metadata": {},
   "outputs": [
    {
     "name": "stdout",
     "output_type": "stream",
     "text": [
      "<class 'pandas.core.frame.DataFrame'>\n",
      "RangeIndex: 683692 entries, 0 to 683691\n",
      "Data columns (total 7 columns):\n",
      " #   Column           Non-Null Count   Dtype \n",
      "---  ------           --------------   ----- \n",
      " 0   art              683692 non-null  string\n",
      " 1   funksjon         683692 non-null  string\n",
      " 2   fylkesregion     683692 non-null  string\n",
      " 3   kontoklasse      683692 non-null  string\n",
      " 4   periode          683692 non-null  string\n",
      " 5   regnskapsomfang  683692 non-null  string\n",
      " 6   belop            683692 non-null  Int32 \n",
      "dtypes: Int32(1), string(6)\n",
      "memory usage: 34.6 MB\n"
     ]
    }
   ],
   "source": [
    "#Retter datatyde om nødvendig\n",
    "#regn_2020['belop'] = regn_2020['belop'].astype(\"int\")\n",
    "#regn_2020['kvartal'] = regn_2020['kvartal'].astype(\"str\")\n",
    "#regn_2020['orgnr'] = regn_2020['orgnr'].astype(\"str\")\n",
    "#regn_2020['foretaksnr'] = regn_2020['foretaksnr'].astype(\"str\")\n",
    "regn.convert_dtypes().info()"
   ]
  },
  {
   "cell_type": "code",
   "execution_count": 11,
   "id": "0ffd61d9-6059-470f-8edb-2101514e26b5",
   "metadata": {},
   "outputs": [
    {
     "ename": "FileNotFoundError",
     "evalue": "[Errno 2] No such file or directory: '../../testdata/regnskap_0A_2019.parquet'",
     "output_type": "error",
     "traceback": [
      "\u001b[0;31m---------------------------------------------------------------------------\u001b[0m",
      "\u001b[0;31mFileNotFoundError\u001b[0m                         Traceback (most recent call last)",
      "\u001b[0;32m<ipython-input-11-6c1a82726061>\u001b[0m in \u001b[0;36m<module>\u001b[0;34m\u001b[0m\n\u001b[1;32m      1\u001b[0m \u001b[0;31m#Lagrer til Parquet\u001b[0m\u001b[0;34m\u001b[0m\u001b[0;34m\u001b[0m\u001b[0m\n\u001b[0;32m----> 2\u001b[0;31m \u001b[0mregn\u001b[0m\u001b[0;34m.\u001b[0m\u001b[0mto_parquet\u001b[0m\u001b[0;34m(\u001b[0m\u001b[0;34m\"../../testdata/regnskap_0A_2019.parquet\"\u001b[0m\u001b[0;34m)\u001b[0m\u001b[0;34m\u001b[0m\u001b[0;34m\u001b[0m\u001b[0m\n\u001b[0m",
      "\u001b[0;32m/opt/conda/lib/python3.9/site-packages/pandas/util/_decorators.py\u001b[0m in \u001b[0;36mwrapper\u001b[0;34m(*args, **kwargs)\u001b[0m\n\u001b[1;32m    197\u001b[0m                 \u001b[0;32melse\u001b[0m\u001b[0;34m:\u001b[0m\u001b[0;34m\u001b[0m\u001b[0;34m\u001b[0m\u001b[0m\n\u001b[1;32m    198\u001b[0m                     \u001b[0mkwargs\u001b[0m\u001b[0;34m[\u001b[0m\u001b[0mnew_arg_name\u001b[0m\u001b[0;34m]\u001b[0m \u001b[0;34m=\u001b[0m \u001b[0mnew_arg_value\u001b[0m\u001b[0;34m\u001b[0m\u001b[0;34m\u001b[0m\u001b[0m\n\u001b[0;32m--> 199\u001b[0;31m             \u001b[0;32mreturn\u001b[0m \u001b[0mfunc\u001b[0m\u001b[0;34m(\u001b[0m\u001b[0;34m*\u001b[0m\u001b[0margs\u001b[0m\u001b[0;34m,\u001b[0m \u001b[0;34m**\u001b[0m\u001b[0mkwargs\u001b[0m\u001b[0;34m)\u001b[0m\u001b[0;34m\u001b[0m\u001b[0;34m\u001b[0m\u001b[0m\n\u001b[0m\u001b[1;32m    200\u001b[0m \u001b[0;34m\u001b[0m\u001b[0m\n\u001b[1;32m    201\u001b[0m         \u001b[0;32mreturn\u001b[0m \u001b[0mcast\u001b[0m\u001b[0;34m(\u001b[0m\u001b[0mF\u001b[0m\u001b[0;34m,\u001b[0m \u001b[0mwrapper\u001b[0m\u001b[0;34m)\u001b[0m\u001b[0;34m\u001b[0m\u001b[0;34m\u001b[0m\u001b[0m\n",
      "\u001b[0;32m/opt/conda/lib/python3.9/site-packages/pandas/core/frame.py\u001b[0m in \u001b[0;36mto_parquet\u001b[0;34m(self, path, engine, compression, index, partition_cols, storage_options, **kwargs)\u001b[0m\n\u001b[1;32m   2453\u001b[0m         \u001b[0;32mfrom\u001b[0m \u001b[0mpandas\u001b[0m\u001b[0;34m.\u001b[0m\u001b[0mio\u001b[0m\u001b[0;34m.\u001b[0m\u001b[0mparquet\u001b[0m \u001b[0;32mimport\u001b[0m \u001b[0mto_parquet\u001b[0m\u001b[0;34m\u001b[0m\u001b[0;34m\u001b[0m\u001b[0m\n\u001b[1;32m   2454\u001b[0m \u001b[0;34m\u001b[0m\u001b[0m\n\u001b[0;32m-> 2455\u001b[0;31m         return to_parquet(\n\u001b[0m\u001b[1;32m   2456\u001b[0m             \u001b[0mself\u001b[0m\u001b[0;34m,\u001b[0m\u001b[0;34m\u001b[0m\u001b[0;34m\u001b[0m\u001b[0m\n\u001b[1;32m   2457\u001b[0m             \u001b[0mpath\u001b[0m\u001b[0;34m,\u001b[0m\u001b[0;34m\u001b[0m\u001b[0;34m\u001b[0m\u001b[0m\n",
      "\u001b[0;32m/opt/conda/lib/python3.9/site-packages/pandas/io/parquet.py\u001b[0m in \u001b[0;36mto_parquet\u001b[0;34m(df, path, engine, compression, index, storage_options, partition_cols, **kwargs)\u001b[0m\n\u001b[1;32m    388\u001b[0m     \u001b[0mpath_or_buf\u001b[0m\u001b[0;34m:\u001b[0m \u001b[0mFilePathOrBuffer\u001b[0m \u001b[0;34m=\u001b[0m \u001b[0mio\u001b[0m\u001b[0;34m.\u001b[0m\u001b[0mBytesIO\u001b[0m\u001b[0;34m(\u001b[0m\u001b[0;34m)\u001b[0m \u001b[0;32mif\u001b[0m \u001b[0mpath\u001b[0m \u001b[0;32mis\u001b[0m \u001b[0;32mNone\u001b[0m \u001b[0;32melse\u001b[0m \u001b[0mpath\u001b[0m\u001b[0;34m\u001b[0m\u001b[0;34m\u001b[0m\u001b[0m\n\u001b[1;32m    389\u001b[0m \u001b[0;34m\u001b[0m\u001b[0m\n\u001b[0;32m--> 390\u001b[0;31m     impl.write(\n\u001b[0m\u001b[1;32m    391\u001b[0m         \u001b[0mdf\u001b[0m\u001b[0;34m,\u001b[0m\u001b[0;34m\u001b[0m\u001b[0;34m\u001b[0m\u001b[0m\n\u001b[1;32m    392\u001b[0m         \u001b[0mpath_or_buf\u001b[0m\u001b[0;34m,\u001b[0m\u001b[0;34m\u001b[0m\u001b[0;34m\u001b[0m\u001b[0m\n",
      "\u001b[0;32m/opt/conda/lib/python3.9/site-packages/pandas/io/parquet.py\u001b[0m in \u001b[0;36mwrite\u001b[0;34m(self, df, path, compression, index, storage_options, partition_cols, **kwargs)\u001b[0m\n\u001b[1;32m    152\u001b[0m         \u001b[0mtable\u001b[0m \u001b[0;34m=\u001b[0m \u001b[0mself\u001b[0m\u001b[0;34m.\u001b[0m\u001b[0mapi\u001b[0m\u001b[0;34m.\u001b[0m\u001b[0mTable\u001b[0m\u001b[0;34m.\u001b[0m\u001b[0mfrom_pandas\u001b[0m\u001b[0;34m(\u001b[0m\u001b[0mdf\u001b[0m\u001b[0;34m,\u001b[0m \u001b[0;34m**\u001b[0m\u001b[0mfrom_pandas_kwargs\u001b[0m\u001b[0;34m)\u001b[0m\u001b[0;34m\u001b[0m\u001b[0;34m\u001b[0m\u001b[0m\n\u001b[1;32m    153\u001b[0m \u001b[0;34m\u001b[0m\u001b[0m\n\u001b[0;32m--> 154\u001b[0;31m         path_or_handle, handles, kwargs[\"filesystem\"] = _get_path_or_handle(\n\u001b[0m\u001b[1;32m    155\u001b[0m             \u001b[0mpath\u001b[0m\u001b[0;34m,\u001b[0m\u001b[0;34m\u001b[0m\u001b[0;34m\u001b[0m\u001b[0m\n\u001b[1;32m    156\u001b[0m             \u001b[0mkwargs\u001b[0m\u001b[0;34m.\u001b[0m\u001b[0mpop\u001b[0m\u001b[0;34m(\u001b[0m\u001b[0;34m\"filesystem\"\u001b[0m\u001b[0;34m,\u001b[0m \u001b[0;32mNone\u001b[0m\u001b[0;34m)\u001b[0m\u001b[0;34m,\u001b[0m\u001b[0;34m\u001b[0m\u001b[0;34m\u001b[0m\u001b[0m\n",
      "\u001b[0;32m/opt/conda/lib/python3.9/site-packages/pandas/io/parquet.py\u001b[0m in \u001b[0;36m_get_path_or_handle\u001b[0;34m(path, fs, storage_options, mode, is_dir)\u001b[0m\n\u001b[1;32m     80\u001b[0m         \u001b[0;31m# fsspec resources can also point to directories\u001b[0m\u001b[0;34m\u001b[0m\u001b[0;34m\u001b[0m\u001b[0m\n\u001b[1;32m     81\u001b[0m         \u001b[0;31m# this branch is used for example when reading from non-fsspec URLs\u001b[0m\u001b[0;34m\u001b[0m\u001b[0;34m\u001b[0m\u001b[0m\n\u001b[0;32m---> 82\u001b[0;31m         \u001b[0mhandles\u001b[0m \u001b[0;34m=\u001b[0m \u001b[0mget_handle\u001b[0m\u001b[0;34m(\u001b[0m\u001b[0mpath_or_handle\u001b[0m\u001b[0;34m,\u001b[0m \u001b[0mmode\u001b[0m\u001b[0;34m,\u001b[0m \u001b[0mis_text\u001b[0m\u001b[0;34m=\u001b[0m\u001b[0;32mFalse\u001b[0m\u001b[0;34m)\u001b[0m\u001b[0;34m\u001b[0m\u001b[0;34m\u001b[0m\u001b[0m\n\u001b[0m\u001b[1;32m     83\u001b[0m         \u001b[0mfs\u001b[0m \u001b[0;34m=\u001b[0m \u001b[0;32mNone\u001b[0m\u001b[0;34m\u001b[0m\u001b[0;34m\u001b[0m\u001b[0m\n\u001b[1;32m     84\u001b[0m         \u001b[0mpath_or_handle\u001b[0m \u001b[0;34m=\u001b[0m \u001b[0mhandles\u001b[0m\u001b[0;34m.\u001b[0m\u001b[0mhandle\u001b[0m\u001b[0;34m\u001b[0m\u001b[0;34m\u001b[0m\u001b[0m\n",
      "\u001b[0;32m/opt/conda/lib/python3.9/site-packages/pandas/io/common.py\u001b[0m in \u001b[0;36mget_handle\u001b[0;34m(path_or_buf, mode, encoding, compression, memory_map, is_text, errors, storage_options)\u001b[0m\n\u001b[1;32m    654\u001b[0m         \u001b[0;32melse\u001b[0m\u001b[0;34m:\u001b[0m\u001b[0;34m\u001b[0m\u001b[0;34m\u001b[0m\u001b[0m\n\u001b[1;32m    655\u001b[0m             \u001b[0;31m# Binary mode\u001b[0m\u001b[0;34m\u001b[0m\u001b[0;34m\u001b[0m\u001b[0m\n\u001b[0;32m--> 656\u001b[0;31m             \u001b[0mhandle\u001b[0m \u001b[0;34m=\u001b[0m \u001b[0mopen\u001b[0m\u001b[0;34m(\u001b[0m\u001b[0mhandle\u001b[0m\u001b[0;34m,\u001b[0m \u001b[0mioargs\u001b[0m\u001b[0;34m.\u001b[0m\u001b[0mmode\u001b[0m\u001b[0;34m)\u001b[0m\u001b[0;34m\u001b[0m\u001b[0;34m\u001b[0m\u001b[0m\n\u001b[0m\u001b[1;32m    657\u001b[0m         \u001b[0mhandles\u001b[0m\u001b[0;34m.\u001b[0m\u001b[0mappend\u001b[0m\u001b[0;34m(\u001b[0m\u001b[0mhandle\u001b[0m\u001b[0;34m)\u001b[0m\u001b[0;34m\u001b[0m\u001b[0;34m\u001b[0m\u001b[0m\n\u001b[1;32m    658\u001b[0m \u001b[0;34m\u001b[0m\u001b[0m\n",
      "\u001b[0;31mFileNotFoundError\u001b[0m: [Errno 2] No such file or directory: '../../testdata/regnskap_0A_2019.parquet'"
     ]
    }
   ],
   "source": [
    "#Lagrer til Parquet\n",
    "regn.to_parquet(\"../../testdata/regnskap_0A_2019.parquet\")"
   ]
  },
  {
   "cell_type": "code",
   "execution_count": null,
   "id": "748edfe0-b821-480f-8a56-58fcc04c5e39",
   "metadata": {},
   "outputs": [],
   "source": [
    "#Henter inn parquet-fil\n",
    "regn = pd.read_parquet(\"../../data/arbeid_mtk.parquet\")"
   ]
  },
  {
   "cell_type": "code",
   "execution_count": null,
   "id": "332e44ab-ca0a-4b96-ae0b-c0200b8d98da",
   "metadata": {},
   "outputs": [],
   "source": [
    "regn.info()"
   ]
  },
  {
   "cell_type": "code",
   "execution_count": null,
   "id": "42e687fd-5c15-472b-bc4c-e91ae31e8fe7",
   "metadata": {},
   "outputs": [],
   "source": [
    "#Ajekker om det er duplikater\n",
    "regn.duplicated()\n",
    "regn[regn.duplicated()]"
   ]
  },
  {
   "cell_type": "code",
   "execution_count": null,
   "id": "5e7e661c-bba0-43f7-a9ee-959a0d9373f2",
   "metadata": {},
   "outputs": [],
   "source": [
    "#Filtrerer ut Oslo\n",
    "regn[regn['komnr'] == '0301']"
   ]
  },
  {
   "cell_type": "code",
   "execution_count": null,
   "id": "bb6ebfd4-d1a0-4214-9813-fb130885309c",
   "metadata": {},
   "outputs": [],
   "source": [
    "#Filtrerer ut Oslo og driftsregnskapet\n",
    "regn[(regn['komnr'].str[:2] == '03') & (regn['kontoklasse'] == '1')]"
   ]
  },
  {
   "cell_type": "code",
   "execution_count": null,
   "id": "b87b0964-fd98-47cb-a0ec-72d9580925bc",
   "metadata": {},
   "outputs": [],
   "source": [
    "Antall unike verdier i komnr\n",
    "regn['komnr'].value_counts()"
   ]
  },
  {
   "cell_type": "code",
   "execution_count": null,
   "id": "bfe0f637-ac2d-4bba-a92e-4ac298f8aff5",
   "metadata": {},
   "outputs": [],
   "source": [
    "Kjører en spørring \n",
    "x = regn.query(\"funksjon == '234' & art == '185'\")\n",
    "x"
   ]
  },
  {
   "cell_type": "code",
   "execution_count": null,
   "id": "7ce709b6-3151-4dcc-95ff-0e13fee0686d",
   "metadata": {},
   "outputs": [],
   "source": [
    "#Sjekker om de to første posisjonene i komnr er siffer\n",
    "regn[\"komnr\"].astype(str).str[2].str.isdigit()"
   ]
  },
  {
   "cell_type": "code",
   "execution_count": null,
   "id": "cad1019a-ed72-43c8-9123-231d423c0d77",
   "metadata": {},
   "outputs": [],
   "source": [
    "#Filtrerer i regnskapsfilen\n",
    "regn[(regn[\"funksjon\"] == \"234\") & (regn[\"art\"] == \"185\")]"
   ]
  },
  {
   "cell_type": "code",
   "execution_count": null,
   "id": "7f588d37-3357-40d5-90a1-f489a54e0dac",
   "metadata": {},
   "outputs": [],
   "source": [
    "#Lager et objekt med spesifikasjoner for å filtrere i hovedfilen\n",
    "maske = (regn[\"kontoklasse\"] == \"1\") & (regn[\"funksjon\"] == \"234\") & (regn[\"art\"] == \"185\")\n",
    "regn[maske]"
   ]
  }
 ],
 "metadata": {
  "kernelspec": {
   "display_name": "Pyspark (local)",
   "language": "python",
   "name": "pyspark_local"
  },
  "language_info": {
   "codemirror_mode": {
    "name": "ipython",
    "version": 3
   },
   "file_extension": ".py",
   "mimetype": "text/x-python",
   "name": "python",
   "nbconvert_exporter": "python",
   "pygments_lexer": "ipython3",
   "version": "3.9.7"
  }
 },
 "nbformat": 4,
 "nbformat_minor": 5
}
